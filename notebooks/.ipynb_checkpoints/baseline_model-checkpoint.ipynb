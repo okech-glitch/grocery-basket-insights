{
 "cells": [
  {
   "cell_type": "markdown",
   "id": "2a7d4276-7170-4f14-9303-b439693b86d6",
   "metadata": {},
   "source": [
    "## Analysis of Results\n",
    "\n",
    "The Apriori algorithm identified frequent itemsets and association rules with a minimum support of 0.01 and lift > 1. Key findings:\n",
    "- **Baby Food → Bread**: Support = 0.4074, Confidence = 0.6822, Lift = 1.1337, indicating a strong association.\n",
    "- Similar patterns were observed for Baby Food with Butter and Cereal, suggesting cross-selling opportunities.\n",
    "- The lift values (> 1) confirm that these product pairs are purchased together more often than expected by chance.\n",
    "\n",
    "The Logistic Regression model, using features `quantity`, `price`, and a binary `is_diaper_babyfood` indicator, achieved a **Precision@1 of 0.778**. This exceeds the PRD target of > 0.6, indicating a robust baseline for predicting bundle-eligible products.\n",
    "\n",
    "## Next Steps\n",
    "- Explore additional features (e.g., `product_category`, `store_id`) to improve model performance.\n",
    "- Test advanced models like XGBoost or neural networks.\n",
    "- Deploy the challenge platform to allow submissions and leaderboard updates.\n",
    "  "
   ]
  },
  {
   "cell_type": "code",
   "execution_count": 5,
   "id": "2ed0bcbf-ba99-4dad-9df5-eefd6d47717c",
   "metadata": {
    "scrolled": true
   },
   "outputs": [
    {
     "name": "stdout",
     "output_type": "stream",
     "text": [
      "Top 5 Association Rules:\n",
      "   antecedents  consequents  support  confidence      lift\n",
      "0  (Baby Food)      (Bread)   0.4074    0.682241  1.133667\n",
      "1      (Bread)  (Baby Food)   0.4074    0.676969  1.133667\n",
      "2  (Baby Food)     (Butter)   0.4063    0.680399  1.130700\n",
      "3     (Butter)  (Baby Food)   0.4063    0.675197  1.130700\n",
      "4     (Cereal)  (Baby Food)   0.4112    0.676705  1.133225\n"
     ]
    },
    {
     "name": "stderr",
     "output_type": "stream",
     "text": [
      "C:\\Users\\user\\AppData\\Local\\Programs\\Python\\Python313\\Lib\\site-packages\\sklearn\\linear_model\\_logistic.py:456: DeprecationWarning: scipy.optimize: The `disp` and `iprint` options of the L-BFGS-B solver are deprecated and will be removed in SciPy 1.18.0.\n",
      "  opt_res = optimize.minimize(\n"
     ]
    },
    {
     "name": "stdout",
     "output_type": "stream",
     "text": [
      "Precision@1: 0.778\n",
      "Generated baseline_submission.csv\n"
     ]
    }
   ],
   "source": [
    "import pandas as pd\n",
    "import numpy as np\n",
    "from mlxtend.frequent_patterns import apriori, association_rules\n",
    "from sklearn.model_selection import train_test_split\n",
    "from sklearn.linear_model import LogisticRegression\n",
    "from sklearn.metrics import precision_score\n",
    "\n",
    "# Load data\n",
    "train_df = pd.read_csv('../data/train.csv')\n",
    "\n",
    "# 1. Apriori for Association Rules\n",
    "# Create transaction basket\n",
    "basket = train_df.groupby(['transaction_id', 'product_name'])['quantity'].sum().unstack().fillna(0)\n",
    "basket = basket.map(lambda x: True if x > 0 else False)  # Updated to use map and boolean\n",
    "\n",
    "# Run Apriori\n",
    "frequent_itemsets = apriori(basket, min_support=0.01, use_colnames=True)\n",
    "rules = association_rules(frequent_itemsets, metric='lift', min_threshold=1.0)\n",
    "print('Top 5 Association Rules:')\n",
    "print(rules[['antecedents', 'consequents', 'support', 'confidence', 'lift']].head())\n",
    "\n",
    "# 2. Logistic Regression for Prediction\n",
    "# Feature engineering: Add binary feature for frequent itemsets\n",
    "train_df['is_diaper_babyfood'] = train_df.apply(\n",
    "    lambda x: 1 if x['product_id'] in [101, 102] else 0, axis=1)\n",
    "\n",
    "# Features and target\n",
    "X = train_df[['quantity', 'price', 'is_diaper_babyfood']]\n",
    "y = train_df['is_bundle_target']\n",
    "\n",
    "# Split data\n",
    "X_train, X_test, y_train, y_test = train_test_split(X, y, test_size=0.2, random_state=42)\n",
    "\n",
    "# Train model\n",
    "model = LogisticRegression()\n",
    "model.fit(X_train, y_train)\n",
    "\n",
    "# Evaluate\n",
    "y_pred = model.predict(X_test)\n",
    "precision = precision_score(y_test, y_pred, average='binary')\n",
    "print(f'Precision@1: {precision:.3f}')\n",
    "\n",
    "# Predict on test set\n",
    "test_df = pd.read_csv('../data/test.csv')\n",
    "test_df['is_diaper_babyfood'] = test_df.apply(\n",
    "    lambda x: 1 if x['product_id'] in [101, 102] else 0, axis=1)\n",
    "X_test = test_df[['quantity', 'price', 'is_diaper_babyfood']]\n",
    "test_df['is_bundle_target'] = model.predict(X_test)\n",
    "\n",
    "# Save predictions\n",
    "submission = test_df[['transaction_id', 'product_id', 'is_bundle_target']]\n",
    "submission.to_csv('../data/baseline_submission.csv', index=False)\n",
    "print('Generated baseline_submission.csv')"
   ]
  },
  {
   "cell_type": "code",
   "execution_count": null,
   "id": "2f2edb99-e531-4fe0-8926-4e48acc1d844",
   "metadata": {},
   "outputs": [],
   "source": []
  },
  {
   "cell_type": "code",
   "execution_count": null,
   "id": "83854ed6-5d66-4eee-975e-7a6031bc8876",
   "metadata": {},
   "outputs": [],
   "source": []
  }
 ],
 "metadata": {
  "kernelspec": {
   "display_name": "Python 3 (ipykernel)",
   "language": "python",
   "name": "python3"
  },
  "language_info": {
   "codemirror_mode": {
    "name": "ipython",
    "version": 3
   },
   "file_extension": ".py",
   "mimetype": "text/x-python",
   "name": "python",
   "nbconvert_exporter": "python",
   "pygments_lexer": "ipython3",
   "version": "3.13.5"
  }
 },
 "nbformat": 4,
 "nbformat_minor": 5
}
